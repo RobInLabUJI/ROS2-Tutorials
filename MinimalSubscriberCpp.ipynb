{
 "cells": [
  {
   "cell_type": "code",
   "execution_count": null,
   "metadata": {},
   "outputs": [],
   "source": [
    ".include /opt/ros/bouncy/include"
   ]
  },
  {
   "cell_type": "code",
   "execution_count": null,
   "metadata": {},
   "outputs": [],
   "source": [
    ".L librclcpp"
   ]
  },
  {
   "cell_type": "code",
   "execution_count": null,
   "metadata": {},
   "outputs": [],
   "source": [
    ".L libstd_msgs__rosidl_typesupport_cpp"
   ]
  },
  {
   "cell_type": "code",
   "execution_count": null,
   "metadata": {},
   "outputs": [],
   "source": [
    "#include <iostream>\n",
    "#include \"rclcpp/rclcpp.hpp\"\n",
    "#include \"std_msgs/msg/string.hpp\""
   ]
  },
  {
   "cell_type": "code",
   "execution_count": null,
   "metadata": {},
   "outputs": [],
   "source": [
    "class MinimalSubscriber : public rclcpp::Node\n",
    "{\n",
    "public:\n",
    "  MinimalSubscriber()\n",
    "  : Node(\"minimal_subscriber\")\n",
    "  {\n",
    "    subscription_ = this->create_subscription<std_msgs::msg::String>(\n",
    "      \"topic\",\n",
    "      [this](std_msgs::msg::String::UniquePtr msg) {\n",
    "      RCLCPP_INFO(this->get_logger(), \"I heard: '%s'\", msg->data.c_str())\n",
    "    });\n",
    "  }\n",
    "\n",
    "private:\n",
    "  rclcpp::Subscription<std_msgs::msg::String>::SharedPtr subscription_;\n",
    "};"
   ]
  },
  {
   "cell_type": "code",
   "execution_count": null,
   "metadata": {},
   "outputs": [],
   "source": [
    "char  arg0[] = \"programName\";\n",
    "char  arg1[] = \"arg\";\n",
    "char  arg2[] = \"another arg\";\n",
    "char* argv[] = { &arg0[0], &arg1[0], &arg2[0], NULL };\n",
    "int   argc   = (int)(sizeof(argv) / sizeof(argv[0])) - 1;"
   ]
  },
  {
   "cell_type": "code",
   "execution_count": null,
   "metadata": {},
   "outputs": [],
   "source": [
    "rclcpp::init(argc, argv);\n",
    "rclcpp::spin(std::make_shared<MinimalSubscriber>());"
   ]
  },
  {
   "cell_type": "code",
   "execution_count": null,
   "metadata": {},
   "outputs": [],
   "source": [
    "  rclcpp::shutdown();"
   ]
  },
  {
   "cell_type": "code",
   "execution_count": null,
   "metadata": {},
   "outputs": [],
   "source": [
    "main()"
   ]
  },
  {
   "cell_type": "code",
   "execution_count": null,
   "metadata": {},
   "outputs": [],
   "source": []
  }
 ],
 "metadata": {
  "kernelspec": {
   "display_name": "C++14",
   "language": "C++",
   "name": "cling-cpp14"
  },
  "language_info": {
   "codemirror_mode": "c++",
   "file_extension": ".c++",
   "mimetype": "text/x-c++src",
   "name": "c++"
  }
 },
 "nbformat": 4,
 "nbformat_minor": 2
}
